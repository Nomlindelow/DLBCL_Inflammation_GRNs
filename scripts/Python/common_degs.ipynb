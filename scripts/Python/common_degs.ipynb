{
 "cells": [
  {
   "cell_type": "code",
   "execution_count": 13,
   "metadata": {},
   "outputs": [],
   "source": [
    "import pandas as pd\n",
    "from sklearn.preprocessing import StandardScaler"
   ]
  },
  {
   "cell_type": "code",
   "execution_count": 1,
   "metadata": {},
   "outputs": [],
   "source": [
    "df1 = pd.read_csv(\"../outputs/s1s2/s1s2-f2.tsv\", sep='\\t')\n",
    "df2 = pd.read_csv(\"../outputs/s1s4/s1s4-f2.tsv\", sep='\\t')"
   ]
  },
  {
   "cell_type": "code",
   "execution_count": 169,
   "metadata": {},
   "outputs": [
    {
     "data": {
      "text/html": [
       "<div>\n",
       "<style scoped>\n",
       "    .dataframe tbody tr th:only-of-type {\n",
       "        vertical-align: middle;\n",
       "    }\n",
       "\n",
       "    .dataframe tbody tr th {\n",
       "        vertical-align: top;\n",
       "    }\n",
       "\n",
       "    .dataframe thead th {\n",
       "        text-align: right;\n",
       "    }\n",
       "</style>\n",
       "<table border=\"1\" class=\"dataframe\">\n",
       "  <thead>\n",
       "    <tr style=\"text-align: right;\">\n",
       "      <th></th>\n",
       "      <th>regulatoryGene</th>\n",
       "      <th>targetGene</th>\n",
       "      <th>weight</th>\n",
       "    </tr>\n",
       "  </thead>\n",
       "  <tbody>\n",
       "    <tr>\n",
       "      <th>0</th>\n",
       "      <td>ENSG00000218227</td>\n",
       "      <td>MYOCD</td>\n",
       "      <td>0.005801</td>\n",
       "    </tr>\n",
       "    <tr>\n",
       "      <th>1</th>\n",
       "      <td>PDZK1IP1</td>\n",
       "      <td>EMILIN1</td>\n",
       "      <td>0.005204</td>\n",
       "    </tr>\n",
       "    <tr>\n",
       "      <th>2</th>\n",
       "      <td>CTSE</td>\n",
       "      <td>BICDL2</td>\n",
       "      <td>0.005104</td>\n",
       "    </tr>\n",
       "    <tr>\n",
       "      <th>3</th>\n",
       "      <td>RGS1</td>\n",
       "      <td>CACNA1E</td>\n",
       "      <td>0.005079</td>\n",
       "    </tr>\n",
       "    <tr>\n",
       "      <th>4</th>\n",
       "      <td>AK5</td>\n",
       "      <td>CCL23</td>\n",
       "      <td>0.004905</td>\n",
       "    </tr>\n",
       "  </tbody>\n",
       "</table>\n",
       "</div>"
      ],
      "text/plain": [
       "    regulatoryGene targetGene    weight\n",
       "0  ENSG00000218227      MYOCD  0.005801\n",
       "1         PDZK1IP1    EMILIN1  0.005204\n",
       "2             CTSE     BICDL2  0.005104\n",
       "3             RGS1    CACNA1E  0.005079\n",
       "4              AK5      CCL23  0.004905"
      ]
     },
     "execution_count": 169,
     "metadata": {},
     "output_type": "execute_result"
    }
   ],
   "source": [
    "df1.head()"
   ]
  },
  {
   "cell_type": "code",
   "execution_count": 170,
   "metadata": {},
   "outputs": [
    {
     "data": {
      "text/html": [
       "<div>\n",
       "<style scoped>\n",
       "    .dataframe tbody tr th:only-of-type {\n",
       "        vertical-align: middle;\n",
       "    }\n",
       "\n",
       "    .dataframe tbody tr th {\n",
       "        vertical-align: top;\n",
       "    }\n",
       "\n",
       "    .dataframe thead th {\n",
       "        text-align: right;\n",
       "    }\n",
       "</style>\n",
       "<table border=\"1\" class=\"dataframe\">\n",
       "  <thead>\n",
       "    <tr style=\"text-align: right;\">\n",
       "      <th></th>\n",
       "      <th>regulatoryGene</th>\n",
       "      <th>targetGene</th>\n",
       "      <th>weight</th>\n",
       "    </tr>\n",
       "  </thead>\n",
       "  <tbody>\n",
       "    <tr>\n",
       "      <th>0</th>\n",
       "      <td>MIR4458HG</td>\n",
       "      <td>SDHAF4</td>\n",
       "      <td>0.006545</td>\n",
       "    </tr>\n",
       "    <tr>\n",
       "      <th>1</th>\n",
       "      <td>BCL2L10</td>\n",
       "      <td>ATP6V0C</td>\n",
       "      <td>0.006036</td>\n",
       "    </tr>\n",
       "    <tr>\n",
       "      <th>2</th>\n",
       "      <td>RXRA</td>\n",
       "      <td>CACNA1E</td>\n",
       "      <td>0.005659</td>\n",
       "    </tr>\n",
       "    <tr>\n",
       "      <th>3</th>\n",
       "      <td>DES</td>\n",
       "      <td>C11orf53</td>\n",
       "      <td>0.004978</td>\n",
       "    </tr>\n",
       "    <tr>\n",
       "      <th>4</th>\n",
       "      <td>MIR4458HG</td>\n",
       "      <td>PVT1</td>\n",
       "      <td>0.004797</td>\n",
       "    </tr>\n",
       "  </tbody>\n",
       "</table>\n",
       "</div>"
      ],
      "text/plain": [
       "  regulatoryGene targetGene    weight\n",
       "0      MIR4458HG     SDHAF4  0.006545\n",
       "1        BCL2L10    ATP6V0C  0.006036\n",
       "2           RXRA    CACNA1E  0.005659\n",
       "3            DES   C11orf53  0.004978\n",
       "4      MIR4458HG       PVT1  0.004797"
      ]
     },
     "execution_count": 170,
     "metadata": {},
     "output_type": "execute_result"
    }
   ],
   "source": [
    "df2.head()"
   ]
  },
  {
   "cell_type": "code",
   "execution_count": 171,
   "metadata": {},
   "outputs": [],
   "source": [
    "def locate(df, r):\n",
    "    r1 = r['regulatoryGene']\n",
    "    r2 = r['targetGene']\n",
    "    \n",
    "    return df.loc[((df['regulatoryGene']==r1) & (df['targetGene']==r2))].shape[0]"
   ]
  },
  {
   "cell_type": "code",
   "execution_count": 172,
   "metadata": {},
   "outputs": [
    {
     "name": "stdout",
     "output_type": "stream",
     "text": [
      "salam\n",
      "salam\n",
      "salam\n",
      "salam\n",
      "salam\n",
      "salam\n",
      "salam\n",
      "salam\n",
      "salam\n",
      "salam\n",
      "salam\n"
     ]
    }
   ],
   "source": [
    "j = []\n",
    "k = []\n",
    "for i, r in df1.iterrows():\n",
    "    s = locate(df2, r)\n",
    "    if s == 0:\n",
    "        j.append(r['weight'])\n",
    "    elif s == 1:\n",
    "        k.append(r['weight'])\n",
    "    elif s > 1:\n",
    "        print(\"salam\")"
   ]
  },
  {
   "cell_type": "code",
   "execution_count": 173,
   "metadata": {},
   "outputs": [
    {
     "name": "stdout",
     "output_type": "stream",
     "text": [
      "len(j)=111712, len(k)=25170\n"
     ]
    }
   ],
   "source": [
    "print('len(j)={}, len(k)={}'.format(len(j), len(k)))"
   ]
  },
  {
   "cell_type": "code",
   "execution_count": 177,
   "metadata": {},
   "outputs": [
    {
     "data": {
      "text/plain": [
       "0.00580080348405657"
      ]
     },
     "execution_count": 177,
     "metadata": {},
     "output_type": "execute_result"
    }
   ],
   "source": [
    "max(k)"
   ]
  },
  {
   "cell_type": "code",
   "execution_count": null,
   "metadata": {},
   "outputs": [],
   "source": []
  },
  {
   "cell_type": "code",
   "execution_count": 27,
   "metadata": {},
   "outputs": [],
   "source": [
    "# Scale rawcounts"
   ]
  },
  {
   "cell_type": "code",
   "execution_count": 131,
   "metadata": {},
   "outputs": [],
   "source": [
    "df = pd.read_csv(\"../outputs/s1s4/s1s4-logcounts.tsv\", sep='\\t', index_col=0)"
   ]
  },
  {
   "cell_type": "code",
   "execution_count": 132,
   "metadata": {},
   "outputs": [
    {
     "data": {
      "text/html": [
       "<div>\n",
       "<style scoped>\n",
       "    .dataframe tbody tr th:only-of-type {\n",
       "        vertical-align: middle;\n",
       "    }\n",
       "\n",
       "    .dataframe tbody tr th {\n",
       "        vertical-align: top;\n",
       "    }\n",
       "\n",
       "    .dataframe thead th {\n",
       "        text-align: right;\n",
       "    }\n",
       "</style>\n",
       "<table border=\"1\" class=\"dataframe\">\n",
       "  <thead>\n",
       "    <tr style=\"text-align: right;\">\n",
       "      <th></th>\n",
       "      <th>stage11</th>\n",
       "      <th>stage12</th>\n",
       "      <th>stage13</th>\n",
       "      <th>stage14</th>\n",
       "      <th>stage15</th>\n",
       "      <th>stage16</th>\n",
       "      <th>stage17</th>\n",
       "      <th>stage18</th>\n",
       "      <th>stage41</th>\n",
       "      <th>stage42</th>\n",
       "      <th>stage43</th>\n",
       "      <th>stage44</th>\n",
       "      <th>stage45</th>\n",
       "      <th>stage46</th>\n",
       "      <th>stage47</th>\n",
       "      <th>stage48</th>\n",
       "      <th>stage49</th>\n",
       "      <th>stage410</th>\n",
       "      <th>stage411</th>\n",
       "      <th>stage412</th>\n",
       "    </tr>\n",
       "  </thead>\n",
       "  <tbody>\n",
       "    <tr>\n",
       "      <th>ENSG00000000003.13</th>\n",
       "      <td>6.443</td>\n",
       "      <td>8.017</td>\n",
       "      <td>7.000</td>\n",
       "      <td>6.615</td>\n",
       "      <td>7.781</td>\n",
       "      <td>8.033</td>\n",
       "      <td>8.267</td>\n",
       "      <td>6.000</td>\n",
       "      <td>5.615</td>\n",
       "      <td>6.267</td>\n",
       "      <td>6.508</td>\n",
       "      <td>6.129</td>\n",
       "      <td>6.304</td>\n",
       "      <td>7.358</td>\n",
       "      <td>8.558</td>\n",
       "      <td>6.066</td>\n",
       "      <td>7.229</td>\n",
       "      <td>6.931</td>\n",
       "      <td>7.340</td>\n",
       "      <td>8.017</td>\n",
       "    </tr>\n",
       "    <tr>\n",
       "      <th>ENSG00000000005.5</th>\n",
       "      <td>0.000</td>\n",
       "      <td>0.000</td>\n",
       "      <td>0.000</td>\n",
       "      <td>0.000</td>\n",
       "      <td>1.000</td>\n",
       "      <td>0.000</td>\n",
       "      <td>3.585</td>\n",
       "      <td>1.585</td>\n",
       "      <td>1.000</td>\n",
       "      <td>0.000</td>\n",
       "      <td>0.000</td>\n",
       "      <td>1.585</td>\n",
       "      <td>0.000</td>\n",
       "      <td>2.322</td>\n",
       "      <td>1.000</td>\n",
       "      <td>0.000</td>\n",
       "      <td>2.585</td>\n",
       "      <td>0.000</td>\n",
       "      <td>0.000</td>\n",
       "      <td>2.585</td>\n",
       "    </tr>\n",
       "    <tr>\n",
       "      <th>ENSG00000000419.11</th>\n",
       "      <td>9.979</td>\n",
       "      <td>10.410</td>\n",
       "      <td>11.000</td>\n",
       "      <td>10.620</td>\n",
       "      <td>11.480</td>\n",
       "      <td>9.683</td>\n",
       "      <td>10.630</td>\n",
       "      <td>10.210</td>\n",
       "      <td>10.950</td>\n",
       "      <td>11.330</td>\n",
       "      <td>10.160</td>\n",
       "      <td>10.770</td>\n",
       "      <td>8.820</td>\n",
       "      <td>11.290</td>\n",
       "      <td>11.310</td>\n",
       "      <td>11.180</td>\n",
       "      <td>9.838</td>\n",
       "      <td>10.170</td>\n",
       "      <td>10.110</td>\n",
       "      <td>11.060</td>\n",
       "    </tr>\n",
       "    <tr>\n",
       "      <th>ENSG00000000457.12</th>\n",
       "      <td>7.508</td>\n",
       "      <td>9.418</td>\n",
       "      <td>10.190</td>\n",
       "      <td>7.994</td>\n",
       "      <td>9.003</td>\n",
       "      <td>7.109</td>\n",
       "      <td>10.740</td>\n",
       "      <td>8.994</td>\n",
       "      <td>9.324</td>\n",
       "      <td>10.090</td>\n",
       "      <td>8.414</td>\n",
       "      <td>10.220</td>\n",
       "      <td>7.687</td>\n",
       "      <td>10.780</td>\n",
       "      <td>9.822</td>\n",
       "      <td>9.886</td>\n",
       "      <td>8.299</td>\n",
       "      <td>8.200</td>\n",
       "      <td>9.079</td>\n",
       "      <td>9.866</td>\n",
       "    </tr>\n",
       "    <tr>\n",
       "      <th>ENSG00000000460.15</th>\n",
       "      <td>8.676</td>\n",
       "      <td>9.409</td>\n",
       "      <td>9.331</td>\n",
       "      <td>9.392</td>\n",
       "      <td>10.040</td>\n",
       "      <td>8.082</td>\n",
       "      <td>9.709</td>\n",
       "      <td>9.098</td>\n",
       "      <td>9.200</td>\n",
       "      <td>10.990</td>\n",
       "      <td>7.426</td>\n",
       "      <td>10.410</td>\n",
       "      <td>6.508</td>\n",
       "      <td>11.250</td>\n",
       "      <td>9.226</td>\n",
       "      <td>10.540</td>\n",
       "      <td>7.044</td>\n",
       "      <td>8.842</td>\n",
       "      <td>8.124</td>\n",
       "      <td>10.720</td>\n",
       "    </tr>\n",
       "  </tbody>\n",
       "</table>\n",
       "</div>"
      ],
      "text/plain": [
       "                    stage11  stage12  stage13  stage14  stage15  stage16  \\\n",
       "ENSG00000000003.13    6.443    8.017    7.000    6.615    7.781    8.033   \n",
       "ENSG00000000005.5     0.000    0.000    0.000    0.000    1.000    0.000   \n",
       "ENSG00000000419.11    9.979   10.410   11.000   10.620   11.480    9.683   \n",
       "ENSG00000000457.12    7.508    9.418   10.190    7.994    9.003    7.109   \n",
       "ENSG00000000460.15    8.676    9.409    9.331    9.392   10.040    8.082   \n",
       "\n",
       "                    stage17  stage18  stage41  stage42  stage43  stage44  \\\n",
       "ENSG00000000003.13    8.267    6.000    5.615    6.267    6.508    6.129   \n",
       "ENSG00000000005.5     3.585    1.585    1.000    0.000    0.000    1.585   \n",
       "ENSG00000000419.11   10.630   10.210   10.950   11.330   10.160   10.770   \n",
       "ENSG00000000457.12   10.740    8.994    9.324   10.090    8.414   10.220   \n",
       "ENSG00000000460.15    9.709    9.098    9.200   10.990    7.426   10.410   \n",
       "\n",
       "                    stage45  stage46  stage47  stage48  stage49  stage410  \\\n",
       "ENSG00000000003.13    6.304    7.358    8.558    6.066    7.229     6.931   \n",
       "ENSG00000000005.5     0.000    2.322    1.000    0.000    2.585     0.000   \n",
       "ENSG00000000419.11    8.820   11.290   11.310   11.180    9.838    10.170   \n",
       "ENSG00000000457.12    7.687   10.780    9.822    9.886    8.299     8.200   \n",
       "ENSG00000000460.15    6.508   11.250    9.226   10.540    7.044     8.842   \n",
       "\n",
       "                    stage411  stage412  \n",
       "ENSG00000000003.13     7.340     8.017  \n",
       "ENSG00000000005.5      0.000     2.585  \n",
       "ENSG00000000419.11    10.110    11.060  \n",
       "ENSG00000000457.12     9.079     9.866  \n",
       "ENSG00000000460.15     8.124    10.720  "
      ]
     },
     "execution_count": 132,
     "metadata": {},
     "output_type": "execute_result"
    }
   ],
   "source": [
    "df.head()"
   ]
  },
  {
   "cell_type": "code",
   "execution_count": 133,
   "metadata": {},
   "outputs": [],
   "source": [
    "colnames= df.columns\n",
    "rownames= df.index"
   ]
  },
  {
   "cell_type": "code",
   "execution_count": 134,
   "metadata": {},
   "outputs": [],
   "source": [
    "scaler = StandardScaler()\n",
    "scaler.fit(df)\n",
    "df = scaler.transform(df)"
   ]
  },
  {
   "cell_type": "code",
   "execution_count": 135,
   "metadata": {},
   "outputs": [],
   "source": [
    "df = pd.DataFrame(df, columns=colnames, index=rownames)"
   ]
  },
  {
   "cell_type": "code",
   "execution_count": 136,
   "metadata": {},
   "outputs": [],
   "source": [
    "df.to_csv(\"../outputs/s1s4/z4-logcounts.csv\")"
   ]
  },
  {
   "cell_type": "code",
   "execution_count": 137,
   "metadata": {},
   "outputs": [
    {
     "data": {
      "text/html": [
       "<div>\n",
       "<style scoped>\n",
       "    .dataframe tbody tr th:only-of-type {\n",
       "        vertical-align: middle;\n",
       "    }\n",
       "\n",
       "    .dataframe tbody tr th {\n",
       "        vertical-align: top;\n",
       "    }\n",
       "\n",
       "    .dataframe thead th {\n",
       "        text-align: right;\n",
       "    }\n",
       "</style>\n",
       "<table border=\"1\" class=\"dataframe\">\n",
       "  <thead>\n",
       "    <tr style=\"text-align: right;\">\n",
       "      <th></th>\n",
       "      <th>stage11</th>\n",
       "      <th>stage12</th>\n",
       "      <th>stage13</th>\n",
       "      <th>stage14</th>\n",
       "      <th>stage15</th>\n",
       "      <th>stage16</th>\n",
       "      <th>stage17</th>\n",
       "      <th>stage18</th>\n",
       "      <th>stage41</th>\n",
       "      <th>stage42</th>\n",
       "      <th>stage43</th>\n",
       "      <th>stage44</th>\n",
       "      <th>stage45</th>\n",
       "      <th>stage46</th>\n",
       "      <th>stage47</th>\n",
       "      <th>stage48</th>\n",
       "      <th>stage49</th>\n",
       "      <th>stage410</th>\n",
       "      <th>stage411</th>\n",
       "      <th>stage412</th>\n",
       "    </tr>\n",
       "  </thead>\n",
       "  <tbody>\n",
       "    <tr>\n",
       "      <th>ENSG00000000003.13</th>\n",
       "      <td>0.961100</td>\n",
       "      <td>1.238778</td>\n",
       "      <td>0.851920</td>\n",
       "      <td>0.956730</td>\n",
       "      <td>1.161408</td>\n",
       "      <td>1.482316</td>\n",
       "      <td>1.231649</td>\n",
       "      <td>0.769033</td>\n",
       "      <td>0.622984</td>\n",
       "      <td>0.725665</td>\n",
       "      <td>0.815922</td>\n",
       "      <td>0.706542</td>\n",
       "      <td>1.051963</td>\n",
       "      <td>0.953062</td>\n",
       "      <td>1.168458</td>\n",
       "      <td>0.689414</td>\n",
       "      <td>1.079871</td>\n",
       "      <td>1.025692</td>\n",
       "      <td>1.092062</td>\n",
       "      <td>1.062552</td>\n",
       "    </tr>\n",
       "    <tr>\n",
       "      <th>ENSG00000000005.5</th>\n",
       "      <td>-0.701334</td>\n",
       "      <td>-0.714279</td>\n",
       "      <td>-0.762318</td>\n",
       "      <td>-0.697137</td>\n",
       "      <td>-0.469385</td>\n",
       "      <td>-0.645931</td>\n",
       "      <td>0.118603</td>\n",
       "      <td>-0.321055</td>\n",
       "      <td>-0.498370</td>\n",
       "      <td>-0.729254</td>\n",
       "      <td>-0.739975</td>\n",
       "      <td>-0.355039</td>\n",
       "      <td>-0.677697</td>\n",
       "      <td>-0.213489</td>\n",
       "      <td>-0.560497</td>\n",
       "      <td>-0.720712</td>\n",
       "      <td>-0.096789</td>\n",
       "      <td>-0.682447</td>\n",
       "      <td>-0.762300</td>\n",
       "      <td>-0.185402</td>\n",
       "    </tr>\n",
       "    <tr>\n",
       "      <th>ENSG00000000419.11</th>\n",
       "      <td>1.873464</td>\n",
       "      <td>1.821748</td>\n",
       "      <td>1.774342</td>\n",
       "      <td>1.958051</td>\n",
       "      <td>2.050997</td>\n",
       "      <td>1.919464</td>\n",
       "      <td>1.793402</td>\n",
       "      <td>1.808506</td>\n",
       "      <td>1.919284</td>\n",
       "      <td>1.901068</td>\n",
       "      <td>1.689023</td>\n",
       "      <td>1.790784</td>\n",
       "      <td>1.742291</td>\n",
       "      <td>1.863880</td>\n",
       "      <td>1.798001</td>\n",
       "      <td>1.878234</td>\n",
       "      <td>1.740918</td>\n",
       "      <td>1.823941</td>\n",
       "      <td>1.791869</td>\n",
       "      <td>1.761654</td>\n",
       "    </tr>\n",
       "    <tr>\n",
       "      <th>ENSG00000000457.12</th>\n",
       "      <td>1.235893</td>\n",
       "      <td>1.580082</td>\n",
       "      <td>1.587551</td>\n",
       "      <td>1.301505</td>\n",
       "      <td>1.455293</td>\n",
       "      <td>1.237513</td>\n",
       "      <td>1.819553</td>\n",
       "      <td>1.508269</td>\n",
       "      <td>1.524198</td>\n",
       "      <td>1.613195</td>\n",
       "      <td>1.271598</td>\n",
       "      <td>1.662291</td>\n",
       "      <td>1.431424</td>\n",
       "      <td>1.745743</td>\n",
       "      <td>1.457609</td>\n",
       "      <td>1.577426</td>\n",
       "      <td>1.350979</td>\n",
       "      <td>1.338436</td>\n",
       "      <td>1.531399</td>\n",
       "      <td>1.487343</td>\n",
       "    </tr>\n",
       "    <tr>\n",
       "      <th>ENSG00000000460.15</th>\n",
       "      <td>1.537262</td>\n",
       "      <td>1.577890</td>\n",
       "      <td>1.389461</td>\n",
       "      <td>1.651029</td>\n",
       "      <td>1.704685</td>\n",
       "      <td>1.495298</td>\n",
       "      <td>1.574454</td>\n",
       "      <td>1.533947</td>\n",
       "      <td>1.494068</td>\n",
       "      <td>1.822135</td>\n",
       "      <td>1.035393</td>\n",
       "      <td>1.706680</td>\n",
       "      <td>1.107936</td>\n",
       "      <td>1.854615</td>\n",
       "      <td>1.321269</td>\n",
       "      <td>1.729458</td>\n",
       "      <td>1.032997</td>\n",
       "      <td>1.496657</td>\n",
       "      <td>1.290130</td>\n",
       "      <td>1.683542</td>\n",
       "    </tr>\n",
       "  </tbody>\n",
       "</table>\n",
       "</div>"
      ],
      "text/plain": [
       "                     stage11   stage12   stage13   stage14   stage15  \\\n",
       "ENSG00000000003.13  0.961100  1.238778  0.851920  0.956730  1.161408   \n",
       "ENSG00000000005.5  -0.701334 -0.714279 -0.762318 -0.697137 -0.469385   \n",
       "ENSG00000000419.11  1.873464  1.821748  1.774342  1.958051  2.050997   \n",
       "ENSG00000000457.12  1.235893  1.580082  1.587551  1.301505  1.455293   \n",
       "ENSG00000000460.15  1.537262  1.577890  1.389461  1.651029  1.704685   \n",
       "\n",
       "                     stage16   stage17   stage18   stage41   stage42  \\\n",
       "ENSG00000000003.13  1.482316  1.231649  0.769033  0.622984  0.725665   \n",
       "ENSG00000000005.5  -0.645931  0.118603 -0.321055 -0.498370 -0.729254   \n",
       "ENSG00000000419.11  1.919464  1.793402  1.808506  1.919284  1.901068   \n",
       "ENSG00000000457.12  1.237513  1.819553  1.508269  1.524198  1.613195   \n",
       "ENSG00000000460.15  1.495298  1.574454  1.533947  1.494068  1.822135   \n",
       "\n",
       "                     stage43   stage44   stage45   stage46   stage47  \\\n",
       "ENSG00000000003.13  0.815922  0.706542  1.051963  0.953062  1.168458   \n",
       "ENSG00000000005.5  -0.739975 -0.355039 -0.677697 -0.213489 -0.560497   \n",
       "ENSG00000000419.11  1.689023  1.790784  1.742291  1.863880  1.798001   \n",
       "ENSG00000000457.12  1.271598  1.662291  1.431424  1.745743  1.457609   \n",
       "ENSG00000000460.15  1.035393  1.706680  1.107936  1.854615  1.321269   \n",
       "\n",
       "                     stage48   stage49  stage410  stage411  stage412  \n",
       "ENSG00000000003.13  0.689414  1.079871  1.025692  1.092062  1.062552  \n",
       "ENSG00000000005.5  -0.720712 -0.096789 -0.682447 -0.762300 -0.185402  \n",
       "ENSG00000000419.11  1.878234  1.740918  1.823941  1.791869  1.761654  \n",
       "ENSG00000000457.12  1.577426  1.350979  1.338436  1.531399  1.487343  \n",
       "ENSG00000000460.15  1.729458  1.032997  1.496657  1.290130  1.683542  "
      ]
     },
     "execution_count": 137,
     "metadata": {},
     "output_type": "execute_result"
    }
   ],
   "source": [
    "df.head()"
   ]
  },
  {
   "cell_type": "code",
   "execution_count": null,
   "metadata": {},
   "outputs": [],
   "source": []
  },
  {
   "cell_type": "code",
   "execution_count": 1,
   "metadata": {},
   "outputs": [],
   "source": [
    "# venn diagrams"
   ]
  },
  {
   "cell_type": "code",
   "execution_count": 2,
   "metadata": {},
   "outputs": [],
   "source": [
    "from matplotlib_venn import venn2, venn2_circles\n",
    "from matplotlib_venn import venn3, venn3_circles\n",
    "from matplotlib import pyplot as plt"
   ]
  },
  {
   "cell_type": "code",
   "execution_count": 23,
   "metadata": {},
   "outputs": [],
   "source": [
    "d1 = pd.read_csv(\"../outputs/s1s2/deg_s1s2.csv\")\n",
    "#d2 = pd.read_csv(\"../outputs/s1s3/deg_s1s3.csv\", index_col=0)\n",
    "d3 = pd.read_csv(\"../outputs/s1s4/deg_s1s4.csv\")\n",
    "#d4 = pd.read_csv(\"../outputs/s2s3/deg_s2s3.csv\", index_col=0)\n",
    "#d5 = pd.read_csv(\"../outputs/s2s4/deg_s2s4.csv\", index_col=0)\n",
    "#d6 = pd.read_csv(\"../outputs/s3s4/deg_s3s4.csv\", index_col=0)"
   ]
  },
  {
   "cell_type": "code",
   "execution_count": 24,
   "metadata": {},
   "outputs": [
    {
     "data": {
      "text/html": [
       "<div>\n",
       "<style scoped>\n",
       "    .dataframe tbody tr th:only-of-type {\n",
       "        vertical-align: middle;\n",
       "    }\n",
       "\n",
       "    .dataframe tbody tr th {\n",
       "        vertical-align: top;\n",
       "    }\n",
       "\n",
       "    .dataframe thead th {\n",
       "        text-align: right;\n",
       "    }\n",
       "</style>\n",
       "<table border=\"1\" class=\"dataframe\">\n",
       "  <thead>\n",
       "    <tr style=\"text-align: right;\">\n",
       "      <th></th>\n",
       "      <th>Unnamed: 0</th>\n",
       "      <th>baseMean</th>\n",
       "      <th>log2FoldChange</th>\n",
       "      <th>lfcSE</th>\n",
       "      <th>stat</th>\n",
       "      <th>pvalue</th>\n",
       "      <th>padj</th>\n",
       "      <th>ensembl</th>\n",
       "      <th>symbol</th>\n",
       "    </tr>\n",
       "  </thead>\n",
       "  <tbody>\n",
       "    <tr>\n",
       "      <th>0</th>\n",
       "      <td>ENSG00000141052.16</td>\n",
       "      <td>440.732948</td>\n",
       "      <td>6.670669</td>\n",
       "      <td>0.889864</td>\n",
       "      <td>7.496280</td>\n",
       "      <td>6.565466e-14</td>\n",
       "      <td>1.217040e-09</td>\n",
       "      <td>ENSG00000141052</td>\n",
       "      <td>MYOCD</td>\n",
       "    </tr>\n",
       "    <tr>\n",
       "      <th>1</th>\n",
       "      <td>ENSG00000164047.4</td>\n",
       "      <td>1352.479431</td>\n",
       "      <td>-4.541579</td>\n",
       "      <td>0.718753</td>\n",
       "      <td>-6.318691</td>\n",
       "      <td>2.637880e-10</td>\n",
       "      <td>1.629946e-06</td>\n",
       "      <td>ENSG00000164047</td>\n",
       "      <td>CAMP</td>\n",
       "    </tr>\n",
       "    <tr>\n",
       "      <th>2</th>\n",
       "      <td>ENSG00000259078.2</td>\n",
       "      <td>33.467552</td>\n",
       "      <td>4.634223</td>\n",
       "      <td>0.731749</td>\n",
       "      <td>6.333079</td>\n",
       "      <td>2.403171e-10</td>\n",
       "      <td>1.629946e-06</td>\n",
       "      <td>ENSG00000259078</td>\n",
       "      <td>NaN</td>\n",
       "    </tr>\n",
       "    <tr>\n",
       "      <th>3</th>\n",
       "      <td>ENSG00000261226.1</td>\n",
       "      <td>40.163274</td>\n",
       "      <td>3.129394</td>\n",
       "      <td>0.502313</td>\n",
       "      <td>6.229966</td>\n",
       "      <td>4.665374e-10</td>\n",
       "      <td>2.162051e-06</td>\n",
       "      <td>ENSG00000261226</td>\n",
       "      <td>NaN</td>\n",
       "    </tr>\n",
       "    <tr>\n",
       "      <th>4</th>\n",
       "      <td>ENSG00000269821.1</td>\n",
       "      <td>130.300016</td>\n",
       "      <td>2.203808</td>\n",
       "      <td>0.358177</td>\n",
       "      <td>6.152848</td>\n",
       "      <td>7.610397e-10</td>\n",
       "      <td>2.821479e-06</td>\n",
       "      <td>ENSG00000269821</td>\n",
       "      <td>KCNQ1OT1</td>\n",
       "    </tr>\n",
       "  </tbody>\n",
       "</table>\n",
       "</div>"
      ],
      "text/plain": [
       "           Unnamed: 0     baseMean  log2FoldChange     lfcSE      stat  \\\n",
       "0  ENSG00000141052.16   440.732948        6.670669  0.889864  7.496280   \n",
       "1   ENSG00000164047.4  1352.479431       -4.541579  0.718753 -6.318691   \n",
       "2   ENSG00000259078.2    33.467552        4.634223  0.731749  6.333079   \n",
       "3   ENSG00000261226.1    40.163274        3.129394  0.502313  6.229966   \n",
       "4   ENSG00000269821.1   130.300016        2.203808  0.358177  6.152848   \n",
       "\n",
       "         pvalue          padj          ensembl    symbol  \n",
       "0  6.565466e-14  1.217040e-09  ENSG00000141052     MYOCD  \n",
       "1  2.637880e-10  1.629946e-06  ENSG00000164047      CAMP  \n",
       "2  2.403171e-10  1.629946e-06  ENSG00000259078       NaN  \n",
       "3  4.665374e-10  2.162051e-06  ENSG00000261226       NaN  \n",
       "4  7.610397e-10  2.821479e-06  ENSG00000269821  KCNQ1OT1  "
      ]
     },
     "execution_count": 24,
     "metadata": {},
     "output_type": "execute_result"
    }
   ],
   "source": [
    "d3.head()"
   ]
  },
  {
   "cell_type": "code",
   "execution_count": 25,
   "metadata": {},
   "outputs": [
    {
     "data": {
      "text/html": [
       "<div>\n",
       "<style scoped>\n",
       "    .dataframe tbody tr th:only-of-type {\n",
       "        vertical-align: middle;\n",
       "    }\n",
       "\n",
       "    .dataframe tbody tr th {\n",
       "        vertical-align: top;\n",
       "    }\n",
       "\n",
       "    .dataframe thead th {\n",
       "        text-align: right;\n",
       "    }\n",
       "</style>\n",
       "<table border=\"1\" class=\"dataframe\">\n",
       "  <thead>\n",
       "    <tr style=\"text-align: right;\">\n",
       "      <th></th>\n",
       "      <th>ensembl_Id</th>\n",
       "      <th>genename</th>\n",
       "    </tr>\n",
       "  </thead>\n",
       "  <tbody>\n",
       "    <tr>\n",
       "      <th>0</th>\n",
       "      <td>ENSG00000223972</td>\n",
       "      <td>DDX11L1</td>\n",
       "    </tr>\n",
       "    <tr>\n",
       "      <th>1</th>\n",
       "      <td>ENSG00000227232</td>\n",
       "      <td>WASH7P</td>\n",
       "    </tr>\n",
       "    <tr>\n",
       "      <th>2</th>\n",
       "      <td>ENSG00000278267</td>\n",
       "      <td>MIR6859-3</td>\n",
       "    </tr>\n",
       "    <tr>\n",
       "      <th>3</th>\n",
       "      <td>ENSG00000243485</td>\n",
       "      <td>RP11-34P13.3</td>\n",
       "    </tr>\n",
       "    <tr>\n",
       "      <th>4</th>\n",
       "      <td>ENSG00000274890</td>\n",
       "      <td>MIR1302-9</td>\n",
       "    </tr>\n",
       "  </tbody>\n",
       "</table>\n",
       "</div>"
      ],
      "text/plain": [
       "        ensembl_Id      genename\n",
       "0  ENSG00000223972       DDX11L1\n",
       "1  ENSG00000227232        WASH7P\n",
       "2  ENSG00000278267     MIR6859-3\n",
       "3  ENSG00000243485  RP11-34P13.3\n",
       "4  ENSG00000274890     MIR1302-9"
      ]
     },
     "execution_count": 25,
     "metadata": {},
     "output_type": "execute_result"
    }
   ],
   "source": [
    "#print(len(i1),len(i2),len(i3),len(i4),len(i5),len(i6))\n",
    "anno = pd.read_csv(\"../new/data/GeneAnnotation.csv\", sep=',')\n",
    "anno.head()"
   ]
  },
  {
   "cell_type": "code",
   "execution_count": 26,
   "metadata": {},
   "outputs": [
    {
     "data": {
      "text/html": [
       "<div>\n",
       "<style scoped>\n",
       "    .dataframe tbody tr th:only-of-type {\n",
       "        vertical-align: middle;\n",
       "    }\n",
       "\n",
       "    .dataframe tbody tr th {\n",
       "        vertical-align: top;\n",
       "    }\n",
       "\n",
       "    .dataframe thead th {\n",
       "        text-align: right;\n",
       "    }\n",
       "</style>\n",
       "<table border=\"1\" class=\"dataframe\">\n",
       "  <thead>\n",
       "    <tr style=\"text-align: right;\">\n",
       "      <th></th>\n",
       "      <th>ensembl</th>\n",
       "      <th>genename</th>\n",
       "    </tr>\n",
       "  </thead>\n",
       "  <tbody>\n",
       "    <tr>\n",
       "      <th>0</th>\n",
       "      <td>ENSG00000223972</td>\n",
       "      <td>DDX11L1</td>\n",
       "    </tr>\n",
       "    <tr>\n",
       "      <th>1</th>\n",
       "      <td>ENSG00000227232</td>\n",
       "      <td>WASH7P</td>\n",
       "    </tr>\n",
       "    <tr>\n",
       "      <th>2</th>\n",
       "      <td>ENSG00000278267</td>\n",
       "      <td>MIR6859-3</td>\n",
       "    </tr>\n",
       "    <tr>\n",
       "      <th>3</th>\n",
       "      <td>ENSG00000243485</td>\n",
       "      <td>RP11-34P13.3</td>\n",
       "    </tr>\n",
       "    <tr>\n",
       "      <th>4</th>\n",
       "      <td>ENSG00000274890</td>\n",
       "      <td>MIR1302-9</td>\n",
       "    </tr>\n",
       "  </tbody>\n",
       "</table>\n",
       "</div>"
      ],
      "text/plain": [
       "           ensembl      genename\n",
       "0  ENSG00000223972       DDX11L1\n",
       "1  ENSG00000227232        WASH7P\n",
       "2  ENSG00000278267     MIR6859-3\n",
       "3  ENSG00000243485  RP11-34P13.3\n",
       "4  ENSG00000274890     MIR1302-9"
      ]
     },
     "execution_count": 26,
     "metadata": {},
     "output_type": "execute_result"
    }
   ],
   "source": [
    "anno.rename(columns = {'ensembl_Id': 'ensembl'}, inplace=True)\n",
    "anno.head()"
   ]
  },
  {
   "cell_type": "code",
   "execution_count": 27,
   "metadata": {},
   "outputs": [
    {
     "data": {
      "text/html": [
       "<div>\n",
       "<style scoped>\n",
       "    .dataframe tbody tr th:only-of-type {\n",
       "        vertical-align: middle;\n",
       "    }\n",
       "\n",
       "    .dataframe tbody tr th {\n",
       "        vertical-align: top;\n",
       "    }\n",
       "\n",
       "    .dataframe thead th {\n",
       "        text-align: right;\n",
       "    }\n",
       "</style>\n",
       "<table border=\"1\" class=\"dataframe\">\n",
       "  <thead>\n",
       "    <tr style=\"text-align: right;\">\n",
       "      <th></th>\n",
       "      <th>Unnamed: 0</th>\n",
       "      <th>baseMean</th>\n",
       "      <th>log2FoldChange</th>\n",
       "      <th>lfcSE</th>\n",
       "      <th>stat</th>\n",
       "      <th>pvalue</th>\n",
       "      <th>padj</th>\n",
       "      <th>ensembl</th>\n",
       "      <th>symbol</th>\n",
       "    </tr>\n",
       "  </thead>\n",
       "  <tbody>\n",
       "    <tr>\n",
       "      <th>0</th>\n",
       "      <td>ENSG00000259078.2</td>\n",
       "      <td>23.395902</td>\n",
       "      <td>4.038934</td>\n",
       "      <td>0.668908</td>\n",
       "      <td>6.038097</td>\n",
       "      <td>1.559424e-09</td>\n",
       "      <td>0.000031</td>\n",
       "      <td>ENSG00000259078</td>\n",
       "      <td>NaN</td>\n",
       "    </tr>\n",
       "    <tr>\n",
       "      <th>1</th>\n",
       "      <td>ENSG00000117472.8</td>\n",
       "      <td>127.659353</td>\n",
       "      <td>-3.427091</td>\n",
       "      <td>0.583741</td>\n",
       "      <td>-5.870914</td>\n",
       "      <td>4.333987e-09</td>\n",
       "      <td>0.000043</td>\n",
       "      <td>ENSG00000117472</td>\n",
       "      <td>TSPAN1</td>\n",
       "    </tr>\n",
       "    <tr>\n",
       "      <th>2</th>\n",
       "      <td>ENSG00000150750.6</td>\n",
       "      <td>46.097013</td>\n",
       "      <td>-4.574981</td>\n",
       "      <td>0.825908</td>\n",
       "      <td>-5.539333</td>\n",
       "      <td>3.036251e-08</td>\n",
       "      <td>0.000161</td>\n",
       "      <td>ENSG00000150750</td>\n",
       "      <td>C11orf53</td>\n",
       "    </tr>\n",
       "    <tr>\n",
       "      <th>3</th>\n",
       "      <td>ENSG00000196188.9</td>\n",
       "      <td>80.616096</td>\n",
       "      <td>-4.977625</td>\n",
       "      <td>0.900249</td>\n",
       "      <td>-5.529165</td>\n",
       "      <td>3.217593e-08</td>\n",
       "      <td>0.000161</td>\n",
       "      <td>ENSG00000196188</td>\n",
       "      <td>CTSE</td>\n",
       "    </tr>\n",
       "    <tr>\n",
       "      <th>4</th>\n",
       "      <td>ENSG00000173898.10</td>\n",
       "      <td>412.580681</td>\n",
       "      <td>4.248184</td>\n",
       "      <td>0.777307</td>\n",
       "      <td>5.465258</td>\n",
       "      <td>4.622331e-08</td>\n",
       "      <td>0.000185</td>\n",
       "      <td>ENSG00000173898</td>\n",
       "      <td>SPTBN2</td>\n",
       "    </tr>\n",
       "  </tbody>\n",
       "</table>\n",
       "</div>"
      ],
      "text/plain": [
       "           Unnamed: 0    baseMean  log2FoldChange     lfcSE      stat  \\\n",
       "0   ENSG00000259078.2   23.395902        4.038934  0.668908  6.038097   \n",
       "1   ENSG00000117472.8  127.659353       -3.427091  0.583741 -5.870914   \n",
       "2   ENSG00000150750.6   46.097013       -4.574981  0.825908 -5.539333   \n",
       "3   ENSG00000196188.9   80.616096       -4.977625  0.900249 -5.529165   \n",
       "4  ENSG00000173898.10  412.580681        4.248184  0.777307  5.465258   \n",
       "\n",
       "         pvalue      padj          ensembl    symbol  \n",
       "0  1.559424e-09  0.000031  ENSG00000259078       NaN  \n",
       "1  4.333987e-09  0.000043  ENSG00000117472    TSPAN1  \n",
       "2  3.036251e-08  0.000161  ENSG00000150750  C11orf53  \n",
       "3  3.217593e-08  0.000161  ENSG00000196188      CTSE  \n",
       "4  4.622331e-08  0.000185  ENSG00000173898    SPTBN2  "
      ]
     },
     "execution_count": 27,
     "metadata": {},
     "output_type": "execute_result"
    }
   ],
   "source": [
    "d1.head()"
   ]
  },
  {
   "cell_type": "code",
   "execution_count": 28,
   "metadata": {},
   "outputs": [],
   "source": [
    "d1 = d1.merge(anno, left_on='ensembl', right_on='ensembl')\n",
    "d3 = d3.merge(anno, left_on='ensembl', right_on='ensembl')"
   ]
  },
  {
   "cell_type": "code",
   "execution_count": 29,
   "metadata": {},
   "outputs": [],
   "source": [
    "d1 = d1.set_index(\"Unnamed: 0\")\n",
    "d3 = d3.set_index(\"Unnamed: 0\")"
   ]
  },
  {
   "cell_type": "code",
   "execution_count": 30,
   "metadata": {},
   "outputs": [],
   "source": [
    "s1s2 = set(d1.index)\n",
    "#s1s3 = set(d2.index)\n",
    "s1s4 = set(d3.index)\n",
    "#s2s3 = set(d4.index)\n",
    "#s2s4 = set(d5.index)\n",
    "#s3s4 = set(d6.index)"
   ]
  },
  {
   "cell_type": "code",
   "execution_count": 64,
   "metadata": {},
   "outputs": [
    {
     "name": "stdout",
     "output_type": "stream",
     "text": [
      "53 28 207 2 32 25\n"
     ]
    }
   ],
   "source": [
    "print(len(s1s2),len(s1s3),len(s1s4),len(s2s3),len(s2s4),len(s3s4))"
   ]
  },
  {
   "cell_type": "code",
   "execution_count": 65,
   "metadata": {},
   "outputs": [
    {
     "data": {
      "text/plain": [
       "<matplotlib_venn._common.VennDiagram at 0x7fc6b11a4eb8>"
      ]
     },
     "execution_count": 65,
     "metadata": {},
     "output_type": "execute_result"
    },
    {
     "data": {
      "image/png": "[encoded data removed]",
      "text/plain": [
       "<Figure size 432x288 with 1 Axes>"
      ]
     },
     "metadata": {},
     "output_type": "display_data"
    }
   ],
   "source": [
    "venn3([s1s2,s1s3,s1s4], set_labels = ('s1s2','s1s3', 's1s4'))"
   ]
  },
  {
   "cell_type": "code",
   "execution_count": 31,
   "metadata": {},
   "outputs": [
    {
     "data": {
      "text/html": [
       "<div>\n",
       "<style scoped>\n",
       "    .dataframe tbody tr th:only-of-type {\n",
       "        vertical-align: middle;\n",
       "    }\n",
       "\n",
       "    .dataframe tbody tr th {\n",
       "        vertical-align: top;\n",
       "    }\n",
       "\n",
       "    .dataframe thead th {\n",
       "        text-align: right;\n",
       "    }\n",
       "</style>\n",
       "<table border=\"1\" class=\"dataframe\">\n",
       "  <thead>\n",
       "    <tr style=\"text-align: right;\">\n",
       "      <th></th>\n",
       "      <th>baseMean</th>\n",
       "      <th>log2FoldChange</th>\n",
       "      <th>lfcSE</th>\n",
       "      <th>stat</th>\n",
       "      <th>pvalue</th>\n",
       "      <th>padj</th>\n",
       "      <th>ensembl</th>\n",
       "      <th>symbol</th>\n",
       "      <th>genename</th>\n",
       "    </tr>\n",
       "    <tr>\n",
       "      <th>Unnamed: 0</th>\n",
       "      <th></th>\n",
       "      <th></th>\n",
       "      <th></th>\n",
       "      <th></th>\n",
       "      <th></th>\n",
       "      <th></th>\n",
       "      <th></th>\n",
       "      <th></th>\n",
       "      <th></th>\n",
       "    </tr>\n",
       "  </thead>\n",
       "  <tbody>\n",
       "    <tr>\n",
       "      <th>ENSG00000259078.2</th>\n",
       "      <td>23.395902</td>\n",
       "      <td>4.038934</td>\n",
       "      <td>0.668908</td>\n",
       "      <td>6.038097</td>\n",
       "      <td>1.559424e-09</td>\n",
       "      <td>0.000031</td>\n",
       "      <td>ENSG00000259078</td>\n",
       "      <td>NaN</td>\n",
       "      <td>PTBP1P</td>\n",
       "    </tr>\n",
       "    <tr>\n",
       "      <th>ENSG00000117472.8</th>\n",
       "      <td>127.659353</td>\n",
       "      <td>-3.427091</td>\n",
       "      <td>0.583741</td>\n",
       "      <td>-5.870914</td>\n",
       "      <td>4.333987e-09</td>\n",
       "      <td>0.000043</td>\n",
       "      <td>ENSG00000117472</td>\n",
       "      <td>TSPAN1</td>\n",
       "      <td>TSPAN1</td>\n",
       "    </tr>\n",
       "    <tr>\n",
       "      <th>ENSG00000150750.6</th>\n",
       "      <td>46.097013</td>\n",
       "      <td>-4.574981</td>\n",
       "      <td>0.825908</td>\n",
       "      <td>-5.539333</td>\n",
       "      <td>3.036251e-08</td>\n",
       "      <td>0.000161</td>\n",
       "      <td>ENSG00000150750</td>\n",
       "      <td>C11orf53</td>\n",
       "      <td>C11orf53</td>\n",
       "    </tr>\n",
       "    <tr>\n",
       "      <th>ENSG00000196188.9</th>\n",
       "      <td>80.616096</td>\n",
       "      <td>-4.977625</td>\n",
       "      <td>0.900249</td>\n",
       "      <td>-5.529165</td>\n",
       "      <td>3.217593e-08</td>\n",
       "      <td>0.000161</td>\n",
       "      <td>ENSG00000196188</td>\n",
       "      <td>CTSE</td>\n",
       "      <td>CTSE</td>\n",
       "    </tr>\n",
       "    <tr>\n",
       "      <th>ENSG00000173898.10</th>\n",
       "      <td>412.580681</td>\n",
       "      <td>4.248184</td>\n",
       "      <td>0.777307</td>\n",
       "      <td>5.465258</td>\n",
       "      <td>4.622331e-08</td>\n",
       "      <td>0.000185</td>\n",
       "      <td>ENSG00000173898</td>\n",
       "      <td>SPTBN2</td>\n",
       "      <td>SPTBN2</td>\n",
       "    </tr>\n",
       "  </tbody>\n",
       "</table>\n",
       "</div>"
      ],
      "text/plain": [
       "                      baseMean  log2FoldChange     lfcSE      stat  \\\n",
       "Unnamed: 0                                                           \n",
       "ENSG00000259078.2    23.395902        4.038934  0.668908  6.038097   \n",
       "ENSG00000117472.8   127.659353       -3.427091  0.583741 -5.870914   \n",
       "ENSG00000150750.6    46.097013       -4.574981  0.825908 -5.539333   \n",
       "ENSG00000196188.9    80.616096       -4.977625  0.900249 -5.529165   \n",
       "ENSG00000173898.10  412.580681        4.248184  0.777307  5.465258   \n",
       "\n",
       "                          pvalue      padj          ensembl    symbol  \\\n",
       "Unnamed: 0                                                              \n",
       "ENSG00000259078.2   1.559424e-09  0.000031  ENSG00000259078       NaN   \n",
       "ENSG00000117472.8   4.333987e-09  0.000043  ENSG00000117472    TSPAN1   \n",
       "ENSG00000150750.6   3.036251e-08  0.000161  ENSG00000150750  C11orf53   \n",
       "ENSG00000196188.9   3.217593e-08  0.000161  ENSG00000196188      CTSE   \n",
       "ENSG00000173898.10  4.622331e-08  0.000185  ENSG00000173898    SPTBN2   \n",
       "\n",
       "                    genename  \n",
       "Unnamed: 0                    \n",
       "ENSG00000259078.2     PTBP1P  \n",
       "ENSG00000117472.8     TSPAN1  \n",
       "ENSG00000150750.6   C11orf53  \n",
       "ENSG00000196188.9       CTSE  \n",
       "ENSG00000173898.10    SPTBN2  "
      ]
     },
     "execution_count": 31,
     "metadata": {},
     "output_type": "execute_result"
    }
   ],
   "source": [
    "d1.head()"
   ]
  },
  {
   "cell_type": "code",
   "execution_count": 32,
   "metadata": {},
   "outputs": [],
   "source": [
    "s = s1s2.intersection(s1s4)"
   ]
  },
  {
   "cell_type": "code",
   "execution_count": 11,
   "metadata": {},
   "outputs": [],
   "source": [
    "s = s1s2.intersection(s1s3, s1s4)"
   ]
  },
  {
   "cell_type": "code",
   "execution_count": 33,
   "metadata": {},
   "outputs": [
    {
     "name": "stdout",
     "output_type": "stream",
     "text": [
      "RASGRP4 \t2.46714758316757 \t2.3549413677555\n",
      "FFAR2 \t2.6973506767489397 \t3.6751824965670497\n",
      "CABLES1 \t2.2018677880535003 \t2.8581037852697904\n",
      "C11orf53 \t-4.574981262283839 \t-3.5051735766205496\n",
      "ADAMTS6 \t2.3643708860622503 \t2.0873926891325802\n",
      "CTSE \t-4.977624730826871 \t-4.92981446877325\n",
      "BARX2 \t-3.65171682963786 \t-3.3611800259369504\n",
      "SHANK1 \t-2.90619448646591 \t-3.4173962310197097\n",
      "MYOCD \t3.9947139432469796 \t6.670669246223331\n",
      "nan \t3.7268915344969904 \t4.3692857617222\n",
      "MEFV \t2.7999130176483304 \t2.8908685765053797\n",
      "CACNA1E \t3.89667768120171 \t3.8064805074821297\n",
      "KCNQ1OT1 \t1.69702729559704 \t2.20380760826682\n",
      "TMEM132B \t4.64498851403681 \t4.811166956909861\n",
      "SPTBN2 \t4.2481837893917 \t3.3646886966264904\n",
      "nan \t3.1439045305450297 \t3.1293938096218197\n",
      "CASP5 \t3.3447458456821697 \t4.1662796431415705\n",
      "CXCL2 \t2.66323357962152 \t2.19057027210369\n",
      "BCL2L10 \t5.00503350494086 \t4.695188628964821\n",
      "VWCE \t2.7626863676361 \t2.6003443766882204\n",
      "nan \t4.594313184668519 \t4.53564559046853\n",
      "SOX7 \t1.9639754203631399 \t1.95627421973198\n",
      "CCL8 \t2.7172776289033402 \t3.2158660753930404\n",
      "TSPAN1 \t-3.42709090123723 \t-3.55674686188998\n",
      "nan \t4.03893401535294 \t4.6342226350428\n"
     ]
    }
   ],
   "source": [
    "for i in s:\n",
    "    print(d1.loc[i]['symbol'], '\\t' + str(d1.loc[i]['log2FoldChange']), '\\t' + str(d3.loc[i]['log2FoldChange']))"
   ]
  },
  {
   "cell_type": "code",
   "execution_count": 34,
   "metadata": {},
   "outputs": [],
   "source": [
    "import numpy as np\n",
    "import matplotlib.pyplot as plt"
   ]
  },
  {
   "cell_type": "code",
   "execution_count": 35,
   "metadata": {},
   "outputs": [
    {
     "data": {
      "image/png": "[encoded data removed]",
      "text/plain": [
       "<Figure size 2160x720 with 1 Axes>"
      ]
     },
     "metadata": {
      "needs_background": "light"
     },
     "output_type": "display_data"
    }
   ],
   "source": [
    "genes = []\n",
    "s2 = []\n",
    "#s3 = []\n",
    "s4 = []\n",
    "for i in s:\n",
    "    genes.append(d1.loc[i]['genename'])\n",
    "    s2.append(d1.loc[i]['log2FoldChange'])\n",
    "    #s3.append(d2.loc[i]['log2FoldChange'])\n",
    "    s4.append(d3.loc[i]['log2FoldChange'])\n",
    "\n",
    "x_axis = np.arange(len(genes))\n",
    "plt.figure(figsize=(30, 10))\n",
    "plt.bar(x_axis - 0.1, s2, 0.1, label = 'Stage II')\n",
    "#plt.bar(x_axis - 0.0, s3, 0.05, label = 'S1S3')\n",
    "plt.bar(x_axis + 0.1, s4, 0.1, label = 'Stage IV')\n",
    "  \n",
    "plt.xticks(x_axis, genes)\n",
    "plt.xlabel(\"Common DEGs in Stage II and Stage IV\")\n",
    "plt.ylabel(\"LFC\")\n",
    "plt.title(\"\")\n",
    "plt.legend()\n",
    "#plt.show()\n",
    "plt.savefig(\"barplot_s2s4.png\")"
   ]
  },
  {
   "cell_type": "code",
   "execution_count": null,
   "metadata": {},
   "outputs": [],
   "source": []
  },
  {
   "cell_type": "code",
   "execution_count": 183,
   "metadata": {},
   "outputs": [],
   "source": [
    "def avg_counts(df, trans_id, fi, si):\n",
    "    counts = df.loc[df.index == trans_id].iloc[0, fi:si]\n",
    "    sum = 0\n",
    "    for i in counts:\n",
    "        sum += i\n",
    "    return sum/len(counts)"
   ]
  },
  {
   "cell_type": "code",
   "execution_count": 185,
   "metadata": {},
   "outputs": [],
   "source": [
    "lg1 = pd.read_csv(\"../outputs/s1s2/s1s2-logcounts.csv\", sep=',', index_col=0)\n",
    "lg2 = pd.read_csv(\"../outputs/s1s3/s1s3-logcounts.csv\", sep=',', index_col=0)\n",
    "lg3 = pd.read_csv(\"../outputs/s1s4/s1s4-logcounts.csv\", sep=',', index_col=0)"
   ]
  },
  {
   "cell_type": "code",
   "execution_count": 229,
   "metadata": {},
   "outputs": [],
   "source": [
    "trans_id = d1.loc[d1['symbol']=='MYOCD'].index[0]"
   ]
  },
  {
   "cell_type": "code",
   "execution_count": 230,
   "metadata": {},
   "outputs": [
    {
     "data": {
      "text/plain": [
       "2.56925"
      ]
     },
     "execution_count": 230,
     "metadata": {},
     "output_type": "execute_result"
    }
   ],
   "source": [
    "avg_counts(lg1, trans_id, 0, 8)"
   ]
  },
  {
   "cell_type": "code",
   "execution_count": 231,
   "metadata": {},
   "outputs": [
    {
     "data": {
      "text/plain": [
       "5.280117647058823"
      ]
     },
     "execution_count": 231,
     "metadata": {},
     "output_type": "execute_result"
    }
   ],
   "source": [
    "avg_counts(lg1, trans_id, 8, 25)"
   ]
  },
  {
   "cell_type": "code",
   "execution_count": 232,
   "metadata": {},
   "outputs": [
    {
     "data": {
      "text/plain": [
       "4.068"
      ]
     },
     "execution_count": 232,
     "metadata": {},
     "output_type": "execute_result"
    }
   ],
   "source": [
    "avg_counts(lg2, trans_id, 8, 13)"
   ]
  },
  {
   "cell_type": "code",
   "execution_count": 233,
   "metadata": {},
   "outputs": [
    {
     "data": {
      "text/plain": [
       "7.256083333333334"
      ]
     },
     "execution_count": 233,
     "metadata": {},
     "output_type": "execute_result"
    }
   ],
   "source": [
    "avg_counts(lg3, trans_id, 8, 20)"
   ]
  },
  {
   "cell_type": "code",
   "execution_count": 235,
   "metadata": {},
   "outputs": [],
   "source": [
    "#lg3.loc[lg3.index == trans_id].iloc[0, 8:20]"
   ]
  },
  {
   "cell_type": "code",
   "execution_count": 234,
   "metadata": {},
   "outputs": [
    {
     "data": {
      "text/plain": [
       "'ENSG00000141052.16'"
      ]
     },
     "execution_count": 234,
     "metadata": {},
     "output_type": "execute_result"
    }
   ],
   "source": [
    "trans_id"
   ]
  },
  {
   "cell_type": "code",
   "execution_count": null,
   "metadata": {},
   "outputs": [],
   "source": []
  },
  {
   "cell_type": "code",
   "execution_count": 236,
   "metadata": {},
   "outputs": [],
   "source": [
    "# gene correlation"
   ]
  },
  {
   "cell_type": "code",
   "execution_count": 237,
   "metadata": {},
   "outputs": [],
   "source": [
    "s = s1s2.intersection(s1s3, s1s4)"
   ]
  },
  {
   "cell_type": "code",
   "execution_count": 246,
   "metadata": {},
   "outputs": [],
   "source": [
    "df = lg2.loc[list(s)].iloc[:,0:8].T"
   ]
  },
  {
   "cell_type": "code",
   "execution_count": 251,
   "metadata": {},
   "outputs": [],
   "source": [
    "df.columns = d1.loc[s]['symbol'].values"
   ]
  },
  {
   "cell_type": "code",
   "execution_count": 252,
   "metadata": {},
   "outputs": [
    {
     "data": {
      "text/html": [
       "<div>\n",
       "<style scoped>\n",
       "    .dataframe tbody tr th:only-of-type {\n",
       "        vertical-align: middle;\n",
       "    }\n",
       "\n",
       "    .dataframe tbody tr th {\n",
       "        vertical-align: top;\n",
       "    }\n",
       "\n",
       "    .dataframe thead th {\n",
       "        text-align: right;\n",
       "    }\n",
       "</style>\n",
       "<table border=\"1\" class=\"dataframe\">\n",
       "  <thead>\n",
       "    <tr style=\"text-align: right;\">\n",
       "      <th></th>\n",
       "      <th>C11orf53</th>\n",
       "      <th>CACNA1E</th>\n",
       "      <th>SPTBN2</th>\n",
       "      <th>CCL8</th>\n",
       "      <th>VWCE</th>\n",
       "      <th>FFAR2</th>\n",
       "      <th>CASP5</th>\n",
       "      <th>CABLES1</th>\n",
       "    </tr>\n",
       "  </thead>\n",
       "  <tbody>\n",
       "    <tr>\n",
       "      <th>C11orf53</th>\n",
       "      <td>1.000000</td>\n",
       "      <td>0.455134</td>\n",
       "      <td>0.471685</td>\n",
       "      <td>-0.135869</td>\n",
       "      <td>0.335056</td>\n",
       "      <td>0.204548</td>\n",
       "      <td>0.178909</td>\n",
       "      <td>0.230251</td>\n",
       "    </tr>\n",
       "    <tr>\n",
       "      <th>CACNA1E</th>\n",
       "      <td>0.455134</td>\n",
       "      <td>1.000000</td>\n",
       "      <td>-0.227607</td>\n",
       "      <td>0.490408</td>\n",
       "      <td>-0.106574</td>\n",
       "      <td>0.284719</td>\n",
       "      <td>0.592736</td>\n",
       "      <td>0.359556</td>\n",
       "    </tr>\n",
       "    <tr>\n",
       "      <th>SPTBN2</th>\n",
       "      <td>0.471685</td>\n",
       "      <td>-0.227607</td>\n",
       "      <td>1.000000</td>\n",
       "      <td>-0.510750</td>\n",
       "      <td>0.818785</td>\n",
       "      <td>0.108096</td>\n",
       "      <td>0.152699</td>\n",
       "      <td>0.349517</td>\n",
       "    </tr>\n",
       "    <tr>\n",
       "      <th>CCL8</th>\n",
       "      <td>-0.135869</td>\n",
       "      <td>0.490408</td>\n",
       "      <td>-0.510750</td>\n",
       "      <td>1.000000</td>\n",
       "      <td>-0.135657</td>\n",
       "      <td>0.532678</td>\n",
       "      <td>0.675604</td>\n",
       "      <td>0.135259</td>\n",
       "    </tr>\n",
       "    <tr>\n",
       "      <th>VWCE</th>\n",
       "      <td>0.335056</td>\n",
       "      <td>-0.106574</td>\n",
       "      <td>0.818785</td>\n",
       "      <td>-0.135657</td>\n",
       "      <td>1.000000</td>\n",
       "      <td>0.148227</td>\n",
       "      <td>0.406073</td>\n",
       "      <td>0.557856</td>\n",
       "    </tr>\n",
       "    <tr>\n",
       "      <th>FFAR2</th>\n",
       "      <td>0.204548</td>\n",
       "      <td>0.284719</td>\n",
       "      <td>0.108096</td>\n",
       "      <td>0.532678</td>\n",
       "      <td>0.148227</td>\n",
       "      <td>1.000000</td>\n",
       "      <td>0.484941</td>\n",
       "      <td>0.182465</td>\n",
       "    </tr>\n",
       "    <tr>\n",
       "      <th>CASP5</th>\n",
       "      <td>0.178909</td>\n",
       "      <td>0.592736</td>\n",
       "      <td>0.152699</td>\n",
       "      <td>0.675604</td>\n",
       "      <td>0.406073</td>\n",
       "      <td>0.484941</td>\n",
       "      <td>1.000000</td>\n",
       "      <td>0.634000</td>\n",
       "    </tr>\n",
       "    <tr>\n",
       "      <th>CABLES1</th>\n",
       "      <td>0.230251</td>\n",
       "      <td>0.359556</td>\n",
       "      <td>0.349517</td>\n",
       "      <td>0.135259</td>\n",
       "      <td>0.557856</td>\n",
       "      <td>0.182465</td>\n",
       "      <td>0.634000</td>\n",
       "      <td>1.000000</td>\n",
       "    </tr>\n",
       "  </tbody>\n",
       "</table>\n",
       "</div>"
      ],
      "text/plain": [
       "          C11orf53   CACNA1E    SPTBN2      CCL8      VWCE     FFAR2  \\\n",
       "C11orf53  1.000000  0.455134  0.471685 -0.135869  0.335056  0.204548   \n",
       "CACNA1E   0.455134  1.000000 -0.227607  0.490408 -0.106574  0.284719   \n",
       "SPTBN2    0.471685 -0.227607  1.000000 -0.510750  0.818785  0.108096   \n",
       "CCL8     -0.135869  0.490408 -0.510750  1.000000 -0.135657  0.532678   \n",
       "VWCE      0.335056 -0.106574  0.818785 -0.135657  1.000000  0.148227   \n",
       "FFAR2     0.204548  0.284719  0.108096  0.532678  0.148227  1.000000   \n",
       "CASP5     0.178909  0.592736  0.152699  0.675604  0.406073  0.484941   \n",
       "CABLES1   0.230251  0.359556  0.349517  0.135259  0.557856  0.182465   \n",
       "\n",
       "             CASP5   CABLES1  \n",
       "C11orf53  0.178909  0.230251  \n",
       "CACNA1E   0.592736  0.359556  \n",
       "SPTBN2    0.152699  0.349517  \n",
       "CCL8      0.675604  0.135259  \n",
       "VWCE      0.406073  0.557856  \n",
       "FFAR2     0.484941  0.182465  \n",
       "CASP5     1.000000  0.634000  \n",
       "CABLES1   0.634000  1.000000  "
      ]
     },
     "execution_count": 252,
     "metadata": {},
     "output_type": "execute_result"
    }
   ],
   "source": [
    "df.corr()"
   ]
  },
  {
   "cell_type": "code",
   "execution_count": null,
   "metadata": {},
   "outputs": [],
   "source": []
  },
  {
   "cell_type": "code",
   "execution_count": 253,
   "metadata": {},
   "outputs": [],
   "source": [
    "df = lg3.loc[list(s)].iloc[:,9:25].T"
   ]
  },
  {
   "cell_type": "code",
   "execution_count": 254,
   "metadata": {},
   "outputs": [],
   "source": [
    "df.columns = d1.loc[s]['symbol'].values"
   ]
  },
  {
   "cell_type": "code",
   "execution_count": 255,
   "metadata": {},
   "outputs": [
    {
     "data": {
      "text/html": [
       "<div>\n",
       "<style scoped>\n",
       "    .dataframe tbody tr th:only-of-type {\n",
       "        vertical-align: middle;\n",
       "    }\n",
       "\n",
       "    .dataframe tbody tr th {\n",
       "        vertical-align: top;\n",
       "    }\n",
       "\n",
       "    .dataframe thead th {\n",
       "        text-align: right;\n",
       "    }\n",
       "</style>\n",
       "<table border=\"1\" class=\"dataframe\">\n",
       "  <thead>\n",
       "    <tr style=\"text-align: right;\">\n",
       "      <th></th>\n",
       "      <th>C11orf53</th>\n",
       "      <th>CACNA1E</th>\n",
       "      <th>SPTBN2</th>\n",
       "      <th>CCL8</th>\n",
       "      <th>VWCE</th>\n",
       "      <th>FFAR2</th>\n",
       "      <th>CASP5</th>\n",
       "      <th>CABLES1</th>\n",
       "    </tr>\n",
       "  </thead>\n",
       "  <tbody>\n",
       "    <tr>\n",
       "      <th>C11orf53</th>\n",
       "      <td>1.000000</td>\n",
       "      <td>0.181971</td>\n",
       "      <td>-0.437800</td>\n",
       "      <td>0.200116</td>\n",
       "      <td>-0.721221</td>\n",
       "      <td>0.325743</td>\n",
       "      <td>0.106701</td>\n",
       "      <td>-0.347858</td>\n",
       "    </tr>\n",
       "    <tr>\n",
       "      <th>CACNA1E</th>\n",
       "      <td>0.181971</td>\n",
       "      <td>1.000000</td>\n",
       "      <td>-0.463778</td>\n",
       "      <td>0.180722</td>\n",
       "      <td>-0.091539</td>\n",
       "      <td>0.238377</td>\n",
       "      <td>0.097971</td>\n",
       "      <td>-0.487718</td>\n",
       "    </tr>\n",
       "    <tr>\n",
       "      <th>SPTBN2</th>\n",
       "      <td>-0.437800</td>\n",
       "      <td>-0.463778</td>\n",
       "      <td>1.000000</td>\n",
       "      <td>0.333901</td>\n",
       "      <td>0.665133</td>\n",
       "      <td>0.302107</td>\n",
       "      <td>0.537768</td>\n",
       "      <td>0.749173</td>\n",
       "    </tr>\n",
       "    <tr>\n",
       "      <th>CCL8</th>\n",
       "      <td>0.200116</td>\n",
       "      <td>0.180722</td>\n",
       "      <td>0.333901</td>\n",
       "      <td>1.000000</td>\n",
       "      <td>-0.036393</td>\n",
       "      <td>0.922609</td>\n",
       "      <td>0.959979</td>\n",
       "      <td>0.388808</td>\n",
       "    </tr>\n",
       "    <tr>\n",
       "      <th>VWCE</th>\n",
       "      <td>-0.721221</td>\n",
       "      <td>-0.091539</td>\n",
       "      <td>0.665133</td>\n",
       "      <td>-0.036393</td>\n",
       "      <td>1.000000</td>\n",
       "      <td>-0.011774</td>\n",
       "      <td>0.152460</td>\n",
       "      <td>0.593708</td>\n",
       "    </tr>\n",
       "    <tr>\n",
       "      <th>FFAR2</th>\n",
       "      <td>0.325743</td>\n",
       "      <td>0.238377</td>\n",
       "      <td>0.302107</td>\n",
       "      <td>0.922609</td>\n",
       "      <td>-0.011774</td>\n",
       "      <td>1.000000</td>\n",
       "      <td>0.930842</td>\n",
       "      <td>0.418314</td>\n",
       "    </tr>\n",
       "    <tr>\n",
       "      <th>CASP5</th>\n",
       "      <td>0.106701</td>\n",
       "      <td>0.097971</td>\n",
       "      <td>0.537768</td>\n",
       "      <td>0.959979</td>\n",
       "      <td>0.152460</td>\n",
       "      <td>0.930842</td>\n",
       "      <td>1.000000</td>\n",
       "      <td>0.522314</td>\n",
       "    </tr>\n",
       "    <tr>\n",
       "      <th>CABLES1</th>\n",
       "      <td>-0.347858</td>\n",
       "      <td>-0.487718</td>\n",
       "      <td>0.749173</td>\n",
       "      <td>0.388808</td>\n",
       "      <td>0.593708</td>\n",
       "      <td>0.418314</td>\n",
       "      <td>0.522314</td>\n",
       "      <td>1.000000</td>\n",
       "    </tr>\n",
       "  </tbody>\n",
       "</table>\n",
       "</div>"
      ],
      "text/plain": [
       "          C11orf53   CACNA1E    SPTBN2      CCL8      VWCE     FFAR2  \\\n",
       "C11orf53  1.000000  0.181971 -0.437800  0.200116 -0.721221  0.325743   \n",
       "CACNA1E   0.181971  1.000000 -0.463778  0.180722 -0.091539  0.238377   \n",
       "SPTBN2   -0.437800 -0.463778  1.000000  0.333901  0.665133  0.302107   \n",
       "CCL8      0.200116  0.180722  0.333901  1.000000 -0.036393  0.922609   \n",
       "VWCE     -0.721221 -0.091539  0.665133 -0.036393  1.000000 -0.011774   \n",
       "FFAR2     0.325743  0.238377  0.302107  0.922609 -0.011774  1.000000   \n",
       "CASP5     0.106701  0.097971  0.537768  0.959979  0.152460  0.930842   \n",
       "CABLES1  -0.347858 -0.487718  0.749173  0.388808  0.593708  0.418314   \n",
       "\n",
       "             CASP5   CABLES1  \n",
       "C11orf53  0.106701 -0.347858  \n",
       "CACNA1E   0.097971 -0.487718  \n",
       "SPTBN2    0.537768  0.749173  \n",
       "CCL8      0.959979  0.388808  \n",
       "VWCE      0.152460  0.593708  \n",
       "FFAR2     0.930842  0.418314  \n",
       "CASP5     1.000000  0.522314  \n",
       "CABLES1   0.522314  1.000000  "
      ]
     },
     "execution_count": 255,
     "metadata": {},
     "output_type": "execute_result"
    }
   ],
   "source": [
    "df.corr()"
   ]
  },
  {
   "cell_type": "code",
   "execution_count": 257,
   "metadata": {},
   "outputs": [
    {
     "name": "stdout",
     "output_type": "stream",
     "text": [
      "C11orf53\n",
      "CACNA1E\n",
      "SPTBN2\n",
      "CCL8\n",
      "VWCE\n",
      "FFAR2\n",
      "CASP5\n",
      "CABLES1\n"
     ]
    }
   ],
   "source": [
    "for i in df.columns:\n",
    "    print(i)"
   ]
  },
  {
   "cell_type": "code",
   "execution_count": null,
   "metadata": {},
   "outputs": [],
   "source": []
  }
 ],
 "metadata": {
  "kernelspec": {
   "display_name": "Python 3",
   "language": "python",
   "name": "python3"
  },
  "language_info": {
   "codemirror_mode": {
    "name": "ipython",
    "version": 3
   },
   "file_extension": ".py",
   "mimetype": "text/x-python",
   "name": "python",
   "nbconvert_exporter": "python",
   "pygments_lexer": "ipython3",
   "version": "3.7.3"
  }
 },
 "nbformat": 4,
 "nbformat_minor": 4
}
